{
 "cells": [
  {
   "cell_type": "markdown",
   "id": "301be512-974b-4a97-9ed9-b8c5bb8688c0",
   "metadata": {},
   "source": [
    "##### This is the 4 type of Diseases"
   ]
  },
  {
   "cell_type": "code",
   "execution_count": 14,
   "id": "5edc7dcb-3418-465b-a4b2-a206034c8509",
   "metadata": {},
   "outputs": [],
   "source": [
    "disease_arr=['Acne and Rosacea','Actinic Keratosis Basal Cell Carcinoma and other Malignant Lesions','Atopic Dermatitis','Bullous Disease']"
   ]
  },
  {
   "cell_type": "code",
   "execution_count": 2,
   "id": "63fa489d-d9dc-42a3-bff2-141ed6ba687d",
   "metadata": {},
   "outputs": [],
   "source": [
    "from keras import models    \n",
    "loaded_model = models.load_model(\"skin_disease_Predictor.h5\")"
   ]
  },
  {
   "cell_type": "code",
   "execution_count": 7,
   "id": "a30e6c06-d46f-4d00-a207-152421039f90",
   "metadata": {},
   "outputs": [],
   "source": [
    "from tensorflow.keras.applications import  VGG19\n",
    "from tensorflow.keras.models import Model\n",
    "from keras.applications.vgg19 import preprocess_input\n",
    "import cv2\n",
    "import numpy as np"
   ]
  },
  {
   "cell_type": "code",
   "execution_count": 8,
   "id": "676bdf85-3d91-4f77-b0f3-5ca243df9c4d",
   "metadata": {},
   "outputs": [],
   "source": [
    "vgg16 = VGG19(include_top=False,weights='imagenet')"
   ]
  },
  {
   "cell_type": "markdown",
   "id": "d395f1c4-8fab-4eb3-a406-a120a1bdf1ea",
   "metadata": {},
   "source": [
    "##### load_img function will preprocess the input image so that we can pass it to the model"
   ]
  },
  {
   "cell_type": "code",
   "execution_count": 9,
   "id": "f743e534-d8e5-4574-bcd7-ecfcb010ce66",
   "metadata": {},
   "outputs": [],
   "source": [
    "def load_img(img_path):\n",
    "    images=[]\n",
    "    img=cv2.imread(img_path)\n",
    "    img=cv2.resize(img,(100,100))\n",
    "    images.append(img)\n",
    "    x_test=np.asarray(images)\n",
    "    test_img=preprocess_input(x_test)\n",
    "    features_test=vgg16.predict(test_img)\n",
    "    num_test=x_test.shape[0]\n",
    "    f_img=features_test.reshape(num_test,4608)\n",
    "    \n",
    "    return f_img\n",
    "    "
   ]
  },
  {
   "cell_type": "markdown",
   "id": "4ee09624-432c-49bf-af71-d00f0c73231b",
   "metadata": {},
   "source": [
    "##### input image"
   ]
  },
  {
   "cell_type": "code",
   "execution_count": 22,
   "id": "262acbe7-da7c-47b1-bd07-8879537958dc",
   "metadata": {},
   "outputs": [
    {
     "name": "stdout",
     "output_type": "stream",
     "text": [
      "1/1 [==============================] - 0s 145ms/step\n"
     ]
    }
   ],
   "source": [
    "img=load_img(\"test_dataset/Acne and Rosacea Photos/07Rhinophyma1.jpg\")"
   ]
  },
  {
   "cell_type": "markdown",
   "id": "99ac65fd-01e6-4d13-a0b7-ebc724425794",
   "metadata": {},
   "source": [
    "##### output generate by model"
   ]
  },
  {
   "cell_type": "code",
   "execution_count": 23,
   "id": "524d4cdb-eada-4321-99c8-0b0d1d9f6202",
   "metadata": {},
   "outputs": [
    {
     "name": "stdout",
     "output_type": "stream",
     "text": [
      "1/1 [==============================] - 0s 35ms/step\n"
     ]
    }
   ],
   "source": [
    "output=np.argmax(loaded_model.predict(img))"
   ]
  },
  {
   "cell_type": "markdown",
   "id": "4f58db78-221e-430b-8925-629c7fb43f9f",
   "metadata": {},
   "source": [
    "##### printing the output"
   ]
  },
  {
   "cell_type": "code",
   "execution_count": 24,
   "id": "3bde51f1-11bf-4133-adbd-5d5411975d8f",
   "metadata": {},
   "outputs": [
    {
     "name": "stdout",
     "output_type": "stream",
     "text": [
      "The name of the Disease is Acne and Rosacea\n"
     ]
    }
   ],
   "source": [
    "print(\"The name of the Disease is {}\".format(disease_arr[output]))"
   ]
  },
  {
   "cell_type": "code",
   "execution_count": null,
   "id": "dbfb08fd-60eb-47df-ae0e-a357057fe44c",
   "metadata": {},
   "outputs": [],
   "source": []
  }
 ],
 "metadata": {
  "kernelspec": {
   "display_name": "Python 3 (ipykernel)",
   "language": "python",
   "name": "python3"
  },
  "language_info": {
   "codemirror_mode": {
    "name": "ipython",
    "version": 3
   },
   "file_extension": ".py",
   "mimetype": "text/x-python",
   "name": "python",
   "nbconvert_exporter": "python",
   "pygments_lexer": "ipython3",
   "version": "3.10.4"
  }
 },
 "nbformat": 4,
 "nbformat_minor": 5
}
