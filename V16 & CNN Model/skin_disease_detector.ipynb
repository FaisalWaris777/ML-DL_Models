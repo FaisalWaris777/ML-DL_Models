{
 "cells": [
  {
   "cell_type": "code",
   "execution_count": 1,
   "id": "9ba31313-f50f-462d-ae25-247574e4645c",
   "metadata": {},
   "outputs": [],
   "source": [
    "disease_arr=['Acne and Rosacea Photos','Actinic Keratosis Basal Cell Carcinoma and other Malignant Lesions','Atopic Dermatitis Photos','Bullous Disease Photos']"
   ]
  },
  {
   "cell_type": "code",
   "execution_count": 2,
   "id": "0ac0d6a0-0543-45cc-bd8b-6c0dd32a7cff",
   "metadata": {},
   "outputs": [],
   "source": [
    "import os\n",
    "import cv2\n",
    "from tensorflow.keras.models import Model, Sequential\n",
    "from tensorflow.keras.layers import Input, Convolution2D, ZeroPadding2D,MaxPooling2D, Flatten, Dense, Dropout, Activation\n",
    "from PIL import Image\n",
    "import numpy as np\n",
    "from tensorflow.keras.preprocessing.image import load_img, save_img, img_to_array\n",
    "from tensorflow.keras.applications.imagenet_utils import preprocess_input\n",
    "from tensorflow.keras.preprocessing import image\n",
    "import pandas as pd\n",
    "import tensorflow as tf\n",
    "import keras\n",
    "import pickle"
   ]
  },
  {
   "cell_type": "code",
   "execution_count": 6,
   "id": "b22319ad-1f44-483b-b947-e59439f2db65",
   "metadata": {},
   "outputs": [],
   "source": [
    "def data_dictionary():\n",
    "    path_train=\"train_dataset\"\n",
    "    path_test=\"test_dataset\"\n",
    "    train_dictionary={\"image_path\":[],\"target\":[]}\n",
    "    test_dictionary={\"image_path\":[],\"target\":[]}\n",
    "    k=0\n",
    "    for i in disease_arr:\n",
    "        path_disease_train=path_train+\"/\"+i\n",
    "        path_disease_test=path_test+\"/\"+i\n",
    "        image_list_train=os.listdir(path_disease_train)\n",
    "        image_list_test=os.listdir(path_disease_test)\n",
    "        for j in image_list_train:\n",
    "            img_path_train=path_disease_train+\"/\"+j\n",
    "            train_dictionary[\"image_path\"].append(img_path_train)\n",
    "            train_dictionary['target'].append(k) \n",
    "        for m in image_list_test :\n",
    "            img_path_test=path_disease_test+\"/\"+m\n",
    "            test_dictionary[\"image_path\"].append(img_path_test)\n",
    "            test_dictionary['target'].append(k)\n",
    "        k+=1 \n",
    "    test_df=pd.DataFrame(test_dictionary)\n",
    "    train_df=pd.DataFrame(train_dictionary)\n",
    "        \n",
    "    return  train_df,test_df            "
   ]
  },
  {
   "cell_type": "code",
   "execution_count": 7,
   "id": "3b120547-1e73-49f4-9d0c-466a244a0eef",
   "metadata": {},
   "outputs": [],
   "source": [
    "def load_data(input_size=(100,100)):\n",
    "    images=[]\n",
    "    images2=[]\n",
    "    train_df,test_df=data_dictionary()\n",
    "    for i in train_df['image_path']:\n",
    "        img=cv2.imread(i)\n",
    "        img=cv2.resize(img,input_size)\n",
    "        images.append(img)\n",
    "    y_train=np.asarray(train_df['target'])\n",
    "    x_train=np.asarray(images)\n",
    "    for i in test_df['image_path']:\n",
    "        img=cv2.imread(i)\n",
    "        img=cv2.resize(img,input_size)\n",
    "        images2.append(img)\n",
    "    y_test=np.asarray(test_df['target'])\n",
    "    x_test=np.asarray(images2)\n",
    "    return x_train,x_test,y_train,y_test"
   ]
  },
  {
   "cell_type": "code",
   "execution_count": 8,
   "id": "2fadce1d-0ee5-4e45-9d61-e06e1708d625",
   "metadata": {},
   "outputs": [],
   "source": [
    "x_train,x_test,y_train,y_test=load_data(input_size=(100,100))"
   ]
  },
  {
   "cell_type": "code",
   "execution_count": 11,
   "id": "0a9cf01c-6d58-4f98-b540-c90857b3575f",
   "metadata": {},
   "outputs": [],
   "source": [
    "from tensorflow.keras.applications import  VGG19\n",
    "from tensorflow.keras.models import Model\n",
    "from keras.applications.vgg19 import preprocess_input"
   ]
  },
  {
   "cell_type": "code",
   "execution_count": 12,
   "id": "968923b6-aa40-43c4-ace6-110a629564aa",
   "metadata": {},
   "outputs": [
    {
     "name": "stdout",
     "output_type": "stream",
     "text": [
      "Downloading data from https://storage.googleapis.com/tensorflow/keras-applications/vgg19/vgg19_weights_tf_dim_ordering_tf_kernels_notop.h5\n",
      "80134624/80134624 [==============================] - 21s 0us/step\n"
     ]
    }
   ],
   "source": [
    "vgg16 = VGG19(include_top=False,weights='imagenet')"
   ]
  },
  {
   "cell_type": "code",
   "execution_count": 13,
   "id": "042d1515-f605-4ded-a24d-971ebad23f9f",
   "metadata": {},
   "outputs": [],
   "source": [
    "import joblib"
   ]
  },
  {
   "cell_type": "code",
   "execution_count": 14,
   "id": "17659e94-39d3-4601-938d-98f96cf30770",
   "metadata": {},
   "outputs": [
    {
     "name": "stdout",
     "output_type": "stream",
     "text": [
      "Keras weights file (<HDF5 file \"variables.h5\" (mode r+)>) saving:\n",
      "...layers\\conv2d\n",
      "......vars\n",
      ".........0\n",
      ".........1\n",
      "...layers\\conv2d_1\n",
      "......vars\n",
      ".........0\n",
      ".........1\n",
      "...layers\\conv2d_10\n",
      "......vars\n",
      ".........0\n",
      ".........1\n",
      "...layers\\conv2d_11\n",
      "......vars\n",
      ".........0\n",
      ".........1\n",
      "...layers\\conv2d_12\n",
      "......vars\n",
      ".........0\n",
      ".........1\n",
      "...layers\\conv2d_13\n",
      "......vars\n",
      ".........0\n",
      ".........1\n",
      "...layers\\conv2d_14\n",
      "......vars\n",
      ".........0\n",
      ".........1\n",
      "...layers\\conv2d_15\n",
      "......vars\n",
      ".........0\n",
      ".........1\n",
      "...layers\\conv2d_2\n",
      "......vars\n",
      ".........0\n",
      ".........1\n",
      "...layers\\conv2d_3\n",
      "......vars\n",
      ".........0\n",
      ".........1\n",
      "...layers\\conv2d_4\n",
      "......vars\n",
      ".........0\n",
      ".........1\n",
      "...layers\\conv2d_5\n",
      "......vars\n",
      ".........0\n",
      ".........1\n",
      "...layers\\conv2d_6\n",
      "......vars\n",
      ".........0\n",
      ".........1\n",
      "...layers\\conv2d_7\n",
      "......vars\n",
      ".........0\n",
      ".........1\n",
      "...layers\\conv2d_8\n",
      "......vars\n",
      ".........0\n",
      ".........1\n",
      "...layers\\conv2d_9\n",
      "......vars\n",
      ".........0\n",
      ".........1\n",
      "...layers\\input_layer\n",
      "......vars\n",
      "...layers\\max_pooling2d\n",
      "......vars\n",
      "...layers\\max_pooling2d_1\n",
      "......vars\n",
      "...layers\\max_pooling2d_2\n",
      "......vars\n",
      "...layers\\max_pooling2d_3\n",
      "......vars\n",
      "...layers\\max_pooling2d_4\n",
      "......vars\n",
      "...vars\n",
      "Keras model archive saving:\n",
      "File Name                                             Modified             Size\n",
      "config.json                                    2023-01-11 21:31:23        11992\n",
      "metadata.json                                  2023-01-11 21:31:23           64\n",
      "variables.h5                                   2023-01-11 21:31:24     80153976\n"
     ]
    }
   ],
   "source": [
    "filename=\"vgg16.sav\"\n",
    "joblib.dump(vgg16,open(filename,'wb'))"
   ]
  },
  {
   "cell_type": "code",
   "execution_count": 15,
   "id": "86818bdc-731a-4075-bae8-2362bba1ae5f",
   "metadata": {},
   "outputs": [
    {
     "name": "stdout",
     "output_type": "stream",
     "text": [
      "Keras model archive loading:\n",
      "File Name                                             Modified             Size\n",
      "config.json                                    2023-01-11 21:31:22        11992\n",
      "metadata.json                                  2023-01-11 21:31:22           64\n",
      "variables.h5                                   2023-01-11 21:31:24     80153976\n",
      "Keras weights file (<HDF5 file \"variables.h5\" (mode r)>) loading:\n",
      "...layers\\conv2d\n",
      "......vars\n",
      ".........0\n",
      ".........1\n",
      "...layers\\conv2d_1\n",
      "......vars\n",
      ".........0\n",
      ".........1\n",
      "...layers\\conv2d_10\n",
      "......vars\n",
      ".........0\n",
      ".........1\n",
      "...layers\\conv2d_11\n",
      "......vars\n",
      ".........0\n",
      ".........1\n",
      "...layers\\conv2d_12\n",
      "......vars\n",
      ".........0\n",
      ".........1\n",
      "...layers\\conv2d_13\n",
      "......vars\n",
      ".........0\n",
      ".........1\n",
      "...layers\\conv2d_14\n",
      "......vars\n",
      ".........0\n",
      ".........1\n",
      "...layers\\conv2d_15\n",
      "......vars\n",
      ".........0\n",
      ".........1\n",
      "...layers\\conv2d_2\n",
      "......vars\n",
      ".........0\n",
      ".........1\n",
      "...layers\\conv2d_3\n",
      "......vars\n",
      ".........0\n",
      ".........1\n",
      "...layers\\conv2d_4\n",
      "......vars\n",
      ".........0\n",
      ".........1\n",
      "...layers\\conv2d_5\n",
      "......vars\n",
      ".........0\n",
      ".........1\n",
      "...layers\\conv2d_6\n",
      "......vars\n",
      ".........0\n",
      ".........1\n",
      "...layers\\conv2d_7\n",
      "......vars\n",
      ".........0\n",
      ".........1\n",
      "...layers\\conv2d_8\n",
      "......vars\n",
      ".........0\n",
      ".........1\n",
      "...layers\\conv2d_9\n",
      "......vars\n",
      ".........0\n",
      ".........1\n",
      "...layers\\input_layer\n",
      "......vars\n",
      "...layers\\max_pooling2d\n",
      "......vars\n",
      "...layers\\max_pooling2d_1\n",
      "......vars\n",
      "...layers\\max_pooling2d_2\n",
      "......vars\n",
      "...layers\\max_pooling2d_3\n",
      "......vars\n",
      "...layers\\max_pooling2d_4\n",
      "......vars\n",
      "...vars\n"
     ]
    }
   ],
   "source": [
    "vgg19=joblib.load(\"vgg16.sav\")"
   ]
  },
  {
   "cell_type": "code",
   "execution_count": 16,
   "id": "22c42fbe-7a7c-464d-a341-f39372ac2668",
   "metadata": {},
   "outputs": [],
   "source": [
    "train_img=preprocess_input(x_train)\n",
    "test_img=preprocess_input(x_test)"
   ]
  },
  {
   "cell_type": "code",
   "execution_count": 17,
   "id": "e2007dae-0069-4251-b60a-4e3e4e56d800",
   "metadata": {},
   "outputs": [
    {
     "name": "stdout",
     "output_type": "stream",
     "text": [
      "92/92 [==============================] - 278s 3s/step\n"
     ]
    }
   ],
   "source": [
    "features_train=vgg16.predict(train_img)"
   ]
  },
  {
   "cell_type": "code",
   "execution_count": 18,
   "id": "46ef2f57-dba5-4b30-864e-de728f7d90b4",
   "metadata": {},
   "outputs": [
    {
     "name": "stdout",
     "output_type": "stream",
     "text": [
      "27/27 [==============================] - 56s 2s/step\n"
     ]
    }
   ],
   "source": [
    "features_test=vgg16.predict(test_img)"
   ]
  },
  {
   "cell_type": "code",
   "execution_count": 19,
   "id": "6a854769-6357-4dc5-915b-1b2765fa670e",
   "metadata": {},
   "outputs": [],
   "source": [
    "num_train=x_train.shape[0]\n",
    "num_test=x_test.shape[0]"
   ]
  },
  {
   "cell_type": "code",
   "execution_count": 20,
   "id": "9f0528b0-1c3f-4f56-8322-f6f9026b3ce7",
   "metadata": {},
   "outputs": [],
   "source": [
    "x_train=features_train.reshape(num_train,4608)\n",
    "x_test=features_test.reshape(num_test,4608)"
   ]
  },
  {
   "cell_type": "code",
   "execution_count": 26,
   "id": "37c31792-4627-4347-951e-b75722837627",
   "metadata": {},
   "outputs": [],
   "source": [
    "from tensorflow.keras.models import Sequential\n",
    "from tensorflow.keras.layers import Conv2D,MaxPooling2D,Flatten, Dense"
   ]
  },
  {
   "cell_type": "code",
   "execution_count": 27,
   "id": "f341fbfb-30b0-4a60-8c3e-17ee7d40cc2e",
   "metadata": {},
   "outputs": [],
   "source": [
    "model=Sequential([ Dense(1024,activation='relu'),\n",
    "                   Dense(512,activation='relu'),\n",
    "                  Dense(256,activation='relu'),\n",
    "                  Dense(128,activation='relu'),\n",
    "                  Dense(6,activation='sigmoid'),\n",
    "\n",
    "])"
   ]
  },
  {
   "cell_type": "code",
   "execution_count": 28,
   "id": "0e7cb431-58bb-4b34-90ff-aa027e850a3a",
   "metadata": {},
   "outputs": [],
   "source": [
    "model.compile(optimizer='adam',loss=tf.keras.losses.SparseCategoricalCrossentropy(),metrics=['accuracy'])"
   ]
  },
  {
   "cell_type": "code",
   "execution_count": 29,
   "id": "fe122da8-0ea5-4b2c-87f1-1574d99c1882",
   "metadata": {},
   "outputs": [
    {
     "name": "stdout",
     "output_type": "stream",
     "text": [
      "Epoch 1/14\n",
      "92/92 [==============================] - 12s 117ms/step - loss: 1.8884 - accuracy: 0.5612 - val_loss: 1.0210 - val_accuracy: 0.6184\n",
      "Epoch 2/14\n",
      "92/92 [==============================] - 11s 115ms/step - loss: 0.5563 - accuracy: 0.7939 - val_loss: 0.6641 - val_accuracy: 0.7428\n",
      "Epoch 3/14\n",
      "92/92 [==============================] - 10s 114ms/step - loss: 0.2870 - accuracy: 0.8978 - val_loss: 0.6556 - val_accuracy: 0.7895\n",
      "Epoch 4/14\n",
      "92/92 [==============================] - 10s 114ms/step - loss: 0.1679 - accuracy: 0.9460 - val_loss: 0.7932 - val_accuracy: 0.7919\n",
      "Epoch 5/14\n",
      "92/92 [==============================] - 11s 117ms/step - loss: 0.0790 - accuracy: 0.9754 - val_loss: 0.8352 - val_accuracy: 0.8170\n",
      "Epoch 6/14\n",
      "92/92 [==============================] - 11s 114ms/step - loss: 0.0732 - accuracy: 0.9788 - val_loss: 1.0462 - val_accuracy: 0.8074\n",
      "Epoch 7/14\n",
      "92/92 [==============================] - 11s 115ms/step - loss: 0.1412 - accuracy: 0.9607 - val_loss: 0.8771 - val_accuracy: 0.7763\n",
      "Epoch 8/14\n",
      "92/92 [==============================] - 11s 118ms/step - loss: 0.1617 - accuracy: 0.9535 - val_loss: 0.7956 - val_accuracy: 0.8002\n",
      "Epoch 9/14\n",
      "92/92 [==============================] - 11s 115ms/step - loss: 0.1077 - accuracy: 0.9641 - val_loss: 1.3442 - val_accuracy: 0.7524\n",
      "Epoch 10/14\n",
      "92/92 [==============================] - 11s 125ms/step - loss: 0.1129 - accuracy: 0.9675 - val_loss: 1.2092 - val_accuracy: 0.7811\n",
      "Epoch 11/14\n",
      "92/92 [==============================] - 12s 125ms/step - loss: 0.1486 - accuracy: 0.9634 - val_loss: 1.1243 - val_accuracy: 0.7787\n",
      "Epoch 12/14\n",
      "92/92 [==============================] - 11s 124ms/step - loss: 0.0799 - accuracy: 0.9792 - val_loss: 1.0937 - val_accuracy: 0.7919\n",
      "Epoch 13/14\n",
      "92/92 [==============================] - 11s 119ms/step - loss: 0.0318 - accuracy: 0.9921 - val_loss: 1.1999 - val_accuracy: 0.7943\n",
      "Epoch 14/14\n",
      "92/92 [==============================] - 11s 117ms/step - loss: 0.0126 - accuracy: 0.9966 - val_loss: 1.3525 - val_accuracy: 0.8050\n"
     ]
    },
    {
     "data": {
      "text/plain": [
       "<keras.callbacks.History at 0x229caeb2e00>"
      ]
     },
     "execution_count": 29,
     "metadata": {},
     "output_type": "execute_result"
    }
   ],
   "source": [
    "model.fit(x_train,y_train,batch_size=32,epochs=14,validation_data=(x_test,y_test))"
   ]
  },
  {
   "cell_type": "code",
   "execution_count": 31,
   "id": "f0ccd053-79d2-442f-bb55-e18c54a60deb",
   "metadata": {},
   "outputs": [],
   "source": [
    "model.save(\"skin_disease_predictor.h5\")"
   ]
  }
 ],
 "metadata": {
  "kernelspec": {
   "display_name": "Python 3 (ipykernel)",
   "language": "python",
   "name": "python3"
  },
  "language_info": {
   "codemirror_mode": {
    "name": "ipython",
    "version": 3
   },
   "file_extension": ".py",
   "mimetype": "text/x-python",
   "name": "python",
   "nbconvert_exporter": "python",
   "pygments_lexer": "ipython3",
   "version": "3.10.4"
  }
 },
 "nbformat": 4,
 "nbformat_minor": 5
}
