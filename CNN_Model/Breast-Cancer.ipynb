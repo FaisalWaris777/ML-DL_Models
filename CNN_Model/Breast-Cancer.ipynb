{
 "cells": [
  {
   "cell_type": "code",
   "execution_count": 1,
   "id": "43a5c60c-2715-42a9-8b61-1590132b4b97",
   "metadata": {},
   "outputs": [],
   "source": [
    "import numpy as np\n",
    "import pandas as pd\n",
    "import tensorflow as tf\n",
    "from tensorflow.keras import Sequential\n",
    "from tensorflow.keras.layers import Conv1D, MaxPool1D,Flatten,Dense,Dropout,BatchNormalization\n",
    "from tensorflow.keras.optimizers import Adam"
   ]
  },
  {
   "cell_type": "code",
   "execution_count": 2,
   "id": "d0aebf47-84d1-45ff-ac5c-e1df12cc7b0c",
   "metadata": {},
   "outputs": [],
   "source": [
    "from sklearn import datasets,metrics\n",
    "from sklearn.model_selection import train_test_split\n",
    "from sklearn.preprocessing import StandardScaler"
   ]
  },
  {
   "cell_type": "code",
   "execution_count": 3,
   "id": "87e4de86-38db-4189-bda0-d6f8bc56ab9b",
   "metadata": {},
   "outputs": [],
   "source": [
    "cancerData = datasets.load_breast_cancer()"
   ]
  },
  {
   "cell_type": "code",
   "execution_count": 4,
   "id": "2a199790-3c0d-426b-9a00-b57d0c9c4eb6",
   "metadata": {},
   "outputs": [
    {
     "data": {
      "text/plain": [
       "array(['mean radius', 'mean texture', 'mean perimeter', 'mean area',\n",
       "       'mean smoothness', 'mean compactness', 'mean concavity',\n",
       "       'mean concave points', 'mean symmetry', 'mean fractal dimension',\n",
       "       'radius error', 'texture error', 'perimeter error', 'area error',\n",
       "       'smoothness error', 'compactness error', 'concavity error',\n",
       "       'concave points error', 'symmetry error',\n",
       "       'fractal dimension error', 'worst radius', 'worst texture',\n",
       "       'worst perimeter', 'worst area', 'worst smoothness',\n",
       "       'worst compactness', 'worst concavity', 'worst concave points',\n",
       "       'worst symmetry', 'worst fractal dimension'], dtype='<U23')"
      ]
     },
     "execution_count": 4,
     "metadata": {},
     "output_type": "execute_result"
    }
   ],
   "source": [
    "cancerData.feature_names"
   ]
  },
  {
   "cell_type": "code",
   "execution_count": 5,
   "id": "8df41f32-1932-48aa-b84f-c3501b441550",
   "metadata": {},
   "outputs": [
    {
     "data": {
      "text/html": [
       "<div>\n",
       "<style scoped>\n",
       "    .dataframe tbody tr th:only-of-type {\n",
       "        vertical-align: middle;\n",
       "    }\n",
       "\n",
       "    .dataframe tbody tr th {\n",
       "        vertical-align: top;\n",
       "    }\n",
       "\n",
       "    .dataframe thead th {\n",
       "        text-align: right;\n",
       "    }\n",
       "</style>\n",
       "<table border=\"1\" class=\"dataframe\">\n",
       "  <thead>\n",
       "    <tr style=\"text-align: right;\">\n",
       "      <th></th>\n",
       "      <th>mean radius</th>\n",
       "      <th>mean perimeter</th>\n",
       "      <th>mean area</th>\n",
       "      <th>mean compactness</th>\n",
       "      <th>mean concavity</th>\n",
       "      <th>mean concave points</th>\n",
       "    </tr>\n",
       "  </thead>\n",
       "  <tbody>\n",
       "    <tr>\n",
       "      <th>0</th>\n",
       "      <td>17.99</td>\n",
       "      <td>122.80</td>\n",
       "      <td>1001.0</td>\n",
       "      <td>0.27760</td>\n",
       "      <td>0.3001</td>\n",
       "      <td>0.14710</td>\n",
       "    </tr>\n",
       "    <tr>\n",
       "      <th>1</th>\n",
       "      <td>20.57</td>\n",
       "      <td>132.90</td>\n",
       "      <td>1326.0</td>\n",
       "      <td>0.07864</td>\n",
       "      <td>0.0869</td>\n",
       "      <td>0.07017</td>\n",
       "    </tr>\n",
       "    <tr>\n",
       "      <th>2</th>\n",
       "      <td>19.69</td>\n",
       "      <td>130.00</td>\n",
       "      <td>1203.0</td>\n",
       "      <td>0.15990</td>\n",
       "      <td>0.1974</td>\n",
       "      <td>0.12790</td>\n",
       "    </tr>\n",
       "    <tr>\n",
       "      <th>3</th>\n",
       "      <td>11.42</td>\n",
       "      <td>77.58</td>\n",
       "      <td>386.1</td>\n",
       "      <td>0.28390</td>\n",
       "      <td>0.2414</td>\n",
       "      <td>0.10520</td>\n",
       "    </tr>\n",
       "    <tr>\n",
       "      <th>4</th>\n",
       "      <td>20.29</td>\n",
       "      <td>135.10</td>\n",
       "      <td>1297.0</td>\n",
       "      <td>0.13280</td>\n",
       "      <td>0.1980</td>\n",
       "      <td>0.10430</td>\n",
       "    </tr>\n",
       "  </tbody>\n",
       "</table>\n",
       "</div>"
      ],
      "text/plain": [
       "   mean radius  mean perimeter  mean area  mean compactness  mean concavity  \\\n",
       "0        17.99          122.80     1001.0           0.27760          0.3001   \n",
       "1        20.57          132.90     1326.0           0.07864          0.0869   \n",
       "2        19.69          130.00     1203.0           0.15990          0.1974   \n",
       "3        11.42           77.58      386.1           0.28390          0.2414   \n",
       "4        20.29          135.10     1297.0           0.13280          0.1980   \n",
       "\n",
       "   mean concave points  \n",
       "0              0.14710  \n",
       "1              0.07017  \n",
       "2              0.12790  \n",
       "3              0.10520  \n",
       "4              0.10430  "
      ]
     },
     "execution_count": 5,
     "metadata": {},
     "output_type": "execute_result"
    }
   ],
   "source": [
    "X = pd.DataFrame(data = cancerData.data, columns=cancerData.feature_names )\n",
    "X=X[['mean radius','mean perimeter','mean area','mean compactness','mean concavity','mean concave points']]\n",
    "X.head()"
   ]
  },
  {
   "cell_type": "code",
   "execution_count": 6,
   "id": "904ecdb1-a3f0-476b-83f8-693794bb5bc4",
   "metadata": {},
   "outputs": [],
   "source": [
    "y = cancerData.target"
   ]
  },
  {
   "cell_type": "code",
   "execution_count": 7,
   "id": "be34dfe9-1742-4d66-8c41-8e6b716e7af4",
   "metadata": {},
   "outputs": [],
   "source": [
    "# y"
   ]
  },
  {
   "cell_type": "code",
   "execution_count": 8,
   "id": "ed6a5f79-1283-4e83-8931-c2477d12a1b8",
   "metadata": {},
   "outputs": [],
   "source": [
    "X_train,X_test,y_train,y_test= train_test_split(X,y,test_size=0.1,stratify=y)"
   ]
  },
  {
   "cell_type": "code",
   "execution_count": 9,
   "id": "585beaac-7c6f-4299-8607-52a5380d24de",
   "metadata": {},
   "outputs": [
    {
     "data": {
      "text/plain": [
       "57"
      ]
     },
     "execution_count": 9,
     "metadata": {},
     "output_type": "execute_result"
    }
   ],
   "source": [
    "X_test.shape[0]"
   ]
  },
  {
   "cell_type": "code",
   "execution_count": 10,
   "id": "53168a53-f440-40e6-ad9d-ad9c36246022",
   "metadata": {},
   "outputs": [],
   "source": [
    "X_train=X_train.to_numpy()\n",
    "X_test=X_test.to_numpy()"
   ]
  },
  {
   "cell_type": "code",
   "execution_count": 11,
   "id": "750506a2-d132-43d7-9a62-01246e35a385",
   "metadata": {},
   "outputs": [],
   "source": [
    "# scaler = StandardScaler()"
   ]
  },
  {
   "cell_type": "code",
   "execution_count": 12,
   "id": "25fdd510-f932-4482-90f8-b1a9f12000b9",
   "metadata": {},
   "outputs": [],
   "source": [
    "# X_train = scaler.fit_transform(X_train)\n",
    "# X_test = scaler.transform(X_test)"
   ]
  },
  {
   "cell_type": "code",
   "execution_count": 13,
   "id": "51d2036c-1b92-4921-b198-449e023d0ed3",
   "metadata": {},
   "outputs": [],
   "source": [
    "X_train = X_train.reshape(X_train.shape[0],6,1)\n",
    "X_test = X_test.reshape(X_test.shape[0],6,1)"
   ]
  },
  {
   "cell_type": "code",
   "execution_count": 14,
   "id": "ec82f36d-88a2-421c-911c-1464d940c9eb",
   "metadata": {},
   "outputs": [],
   "source": [
    "model = Sequential()\n",
    "model.add(Conv1D(filters=16,kernel_size=2,activation='relu',input_shape=(6,1)))\n",
    "model.add(BatchNormalization())\n",
    "model.add(Dropout(0.2))\n",
    "\n",
    "model.add(Conv1D(32,2,activation='relu'))\n",
    "model.add(BatchNormalization())\n",
    "model.add(Dropout(0.2))\n",
    "\n",
    "model.add(Flatten())\n",
    "model.add(Dense(32,activation='relu'))\n",
    "model.add(Dropout(0.2))\n",
    "\n",
    "model.add(Dense(1,activation='sigmoid'))"
   ]
  },
  {
   "cell_type": "code",
   "execution_count": 15,
   "id": "1a3bb4f0-98a3-4415-9859-4e6a653d7967",
   "metadata": {},
   "outputs": [],
   "source": [
    "model.compile(optimizer=Adam(learning_rate=0.0001),loss='binary_crossentropy',metrics=['accuracy'])"
   ]
  },
  {
   "cell_type": "code",
   "execution_count": 16,
   "id": "747b0cdb-0cc3-4cdf-bf2b-65ac4c8deec1",
   "metadata": {},
   "outputs": [
    {
     "name": "stdout",
     "output_type": "stream",
     "text": [
      "Epoch 1/36\n",
      "16/16 [==============================] - 5s 28ms/step - loss: 0.6961 - accuracy: 0.6797 - val_loss: 0.7131 - val_accuracy: 0.2456\n",
      "Epoch 2/36\n",
      "16/16 [==============================] - 0s 7ms/step - loss: 0.6723 - accuracy: 0.6797 - val_loss: 0.7133 - val_accuracy: 0.3684\n",
      "Epoch 3/36\n",
      "16/16 [==============================] - 0s 8ms/step - loss: 0.6502 - accuracy: 0.6992 - val_loss: 0.7109 - val_accuracy: 0.3860\n",
      "Epoch 4/36\n",
      "16/16 [==============================] - 0s 9ms/step - loss: 0.6202 - accuracy: 0.7051 - val_loss: 0.7052 - val_accuracy: 0.4035\n",
      "Epoch 5/36\n",
      "16/16 [==============================] - 0s 9ms/step - loss: 0.5859 - accuracy: 0.7070 - val_loss: 0.6953 - val_accuracy: 0.4386\n",
      "Epoch 6/36\n",
      "16/16 [==============================] - 0s 7ms/step - loss: 0.5287 - accuracy: 0.7480 - val_loss: 0.6745 - val_accuracy: 0.5088\n",
      "Epoch 7/36\n",
      "16/16 [==============================] - 0s 7ms/step - loss: 0.5336 - accuracy: 0.7500 - val_loss: 0.6494 - val_accuracy: 0.5439\n",
      "Epoch 8/36\n",
      "16/16 [==============================] - 0s 7ms/step - loss: 0.5079 - accuracy: 0.7676 - val_loss: 0.6168 - val_accuracy: 0.6316\n",
      "Epoch 9/36\n",
      "16/16 [==============================] - 0s 8ms/step - loss: 0.5211 - accuracy: 0.7422 - val_loss: 0.5778 - val_accuracy: 0.6316\n",
      "Epoch 10/36\n",
      "16/16 [==============================] - 0s 7ms/step - loss: 0.4696 - accuracy: 0.7988 - val_loss: 0.5452 - val_accuracy: 0.7018\n",
      "Epoch 11/36\n",
      "16/16 [==============================] - 0s 7ms/step - loss: 0.4676 - accuracy: 0.7715 - val_loss: 0.5120 - val_accuracy: 0.7544\n",
      "Epoch 12/36\n",
      "16/16 [==============================] - 0s 7ms/step - loss: 0.4350 - accuracy: 0.8125 - val_loss: 0.4856 - val_accuracy: 0.7719\n",
      "Epoch 13/36\n",
      "16/16 [==============================] - 0s 9ms/step - loss: 0.4972 - accuracy: 0.7773 - val_loss: 0.4603 - val_accuracy: 0.8246\n",
      "Epoch 14/36\n",
      "16/16 [==============================] - 0s 11ms/step - loss: 0.4936 - accuracy: 0.7500 - val_loss: 0.4413 - val_accuracy: 0.8070\n",
      "Epoch 15/36\n",
      "16/16 [==============================] - 0s 9ms/step - loss: 0.4695 - accuracy: 0.7969 - val_loss: 0.4293 - val_accuracy: 0.8246\n",
      "Epoch 16/36\n",
      "16/16 [==============================] - 0s 6ms/step - loss: 0.4583 - accuracy: 0.7754 - val_loss: 0.4148 - val_accuracy: 0.8246\n",
      "Epoch 17/36\n",
      "16/16 [==============================] - 0s 6ms/step - loss: 0.4316 - accuracy: 0.8086 - val_loss: 0.4064 - val_accuracy: 0.8421\n",
      "Epoch 18/36\n",
      "16/16 [==============================] - 0s 5ms/step - loss: 0.4117 - accuracy: 0.8281 - val_loss: 0.3963 - val_accuracy: 0.8596\n",
      "Epoch 19/36\n",
      "16/16 [==============================] - 0s 5ms/step - loss: 0.4181 - accuracy: 0.8125 - val_loss: 0.3896 - val_accuracy: 0.8596\n",
      "Epoch 20/36\n",
      "16/16 [==============================] - 0s 5ms/step - loss: 0.4217 - accuracy: 0.8047 - val_loss: 0.3806 - val_accuracy: 0.8596\n",
      "Epoch 21/36\n",
      "16/16 [==============================] - 0s 6ms/step - loss: 0.3980 - accuracy: 0.8379 - val_loss: 0.3755 - val_accuracy: 0.8421\n",
      "Epoch 22/36\n",
      "16/16 [==============================] - 0s 6ms/step - loss: 0.4009 - accuracy: 0.8184 - val_loss: 0.3729 - val_accuracy: 0.8421\n",
      "Epoch 23/36\n",
      "16/16 [==============================] - 0s 7ms/step - loss: 0.4026 - accuracy: 0.8184 - val_loss: 0.3689 - val_accuracy: 0.8772\n",
      "Epoch 24/36\n",
      "16/16 [==============================] - 0s 6ms/step - loss: 0.4086 - accuracy: 0.8047 - val_loss: 0.3671 - val_accuracy: 0.8772\n",
      "Epoch 25/36\n",
      "16/16 [==============================] - 0s 7ms/step - loss: 0.3981 - accuracy: 0.8301 - val_loss: 0.3656 - val_accuracy: 0.8772\n",
      "Epoch 26/36\n",
      "16/16 [==============================] - 0s 6ms/step - loss: 0.3676 - accuracy: 0.8320 - val_loss: 0.3647 - val_accuracy: 0.8596\n",
      "Epoch 27/36\n",
      "16/16 [==============================] - 0s 6ms/step - loss: 0.4073 - accuracy: 0.8145 - val_loss: 0.3646 - val_accuracy: 0.8421\n",
      "Epoch 28/36\n",
      "16/16 [==============================] - 0s 6ms/step - loss: 0.3819 - accuracy: 0.8379 - val_loss: 0.3649 - val_accuracy: 0.8421\n",
      "Epoch 29/36\n",
      "16/16 [==============================] - 0s 8ms/step - loss: 0.3859 - accuracy: 0.8359 - val_loss: 0.3650 - val_accuracy: 0.8421\n",
      "Epoch 30/36\n",
      "16/16 [==============================] - 0s 11ms/step - loss: 0.3889 - accuracy: 0.8379 - val_loss: 0.3651 - val_accuracy: 0.8421\n",
      "Epoch 31/36\n",
      "16/16 [==============================] - 0s 8ms/step - loss: 0.4226 - accuracy: 0.7988 - val_loss: 0.3652 - val_accuracy: 0.8421\n",
      "Epoch 32/36\n",
      "16/16 [==============================] - 0s 8ms/step - loss: 0.3777 - accuracy: 0.8301 - val_loss: 0.3661 - val_accuracy: 0.8421\n",
      "Epoch 33/36\n",
      "16/16 [==============================] - 0s 7ms/step - loss: 0.3840 - accuracy: 0.8242 - val_loss: 0.3652 - val_accuracy: 0.8421\n",
      "Epoch 34/36\n",
      "16/16 [==============================] - 0s 8ms/step - loss: 0.4070 - accuracy: 0.8164 - val_loss: 0.3656 - val_accuracy: 0.8421\n",
      "Epoch 35/36\n",
      "16/16 [==============================] - 0s 7ms/step - loss: 0.4129 - accuracy: 0.8105 - val_loss: 0.3657 - val_accuracy: 0.8421\n",
      "Epoch 36/36\n",
      "16/16 [==============================] - 0s 7ms/step - loss: 0.3904 - accuracy: 0.8262 - val_loss: 0.3674 - val_accuracy: 0.8246\n"
     ]
    },
    {
     "data": {
      "text/plain": [
       "<keras.callbacks.History at 0x1faac688790>"
      ]
     },
     "execution_count": 16,
     "metadata": {},
     "output_type": "execute_result"
    }
   ],
   "source": [
    "model.fit(X_train,y_train,epochs=36,verbose=1,validation_data=(X_test,y_test))"
   ]
  },
  {
   "cell_type": "code",
   "execution_count": 17,
   "id": "809be098-9197-40c2-abfa-9d437d11b4c4",
   "metadata": {},
   "outputs": [
    {
     "data": {
      "text/html": [
       "<div>\n",
       "<style scoped>\n",
       "    .dataframe tbody tr th:only-of-type {\n",
       "        vertical-align: middle;\n",
       "    }\n",
       "\n",
       "    .dataframe tbody tr th {\n",
       "        vertical-align: top;\n",
       "    }\n",
       "\n",
       "    .dataframe thead th {\n",
       "        text-align: right;\n",
       "    }\n",
       "</style>\n",
       "<table border=\"1\" class=\"dataframe\">\n",
       "  <thead>\n",
       "    <tr style=\"text-align: right;\">\n",
       "      <th></th>\n",
       "      <th>mean radius</th>\n",
       "      <th>mean perimeter</th>\n",
       "      <th>mean area</th>\n",
       "      <th>mean compactness</th>\n",
       "      <th>mean concavity</th>\n",
       "      <th>mean concave points</th>\n",
       "    </tr>\n",
       "  </thead>\n",
       "  <tbody>\n",
       "    <tr>\n",
       "      <th>19</th>\n",
       "      <td>13.540</td>\n",
       "      <td>87.46</td>\n",
       "      <td>566.3</td>\n",
       "      <td>0.08129</td>\n",
       "      <td>0.06664</td>\n",
       "      <td>0.047810</td>\n",
       "    </tr>\n",
       "    <tr>\n",
       "      <th>20</th>\n",
       "      <td>13.080</td>\n",
       "      <td>85.63</td>\n",
       "      <td>520.0</td>\n",
       "      <td>0.12700</td>\n",
       "      <td>0.04568</td>\n",
       "      <td>0.031100</td>\n",
       "    </tr>\n",
       "    <tr>\n",
       "      <th>21</th>\n",
       "      <td>9.504</td>\n",
       "      <td>60.34</td>\n",
       "      <td>273.9</td>\n",
       "      <td>0.06492</td>\n",
       "      <td>0.02956</td>\n",
       "      <td>0.020760</td>\n",
       "    </tr>\n",
       "    <tr>\n",
       "      <th>37</th>\n",
       "      <td>13.030</td>\n",
       "      <td>82.61</td>\n",
       "      <td>523.8</td>\n",
       "      <td>0.03766</td>\n",
       "      <td>0.02562</td>\n",
       "      <td>0.029230</td>\n",
       "    </tr>\n",
       "    <tr>\n",
       "      <th>46</th>\n",
       "      <td>8.196</td>\n",
       "      <td>51.71</td>\n",
       "      <td>201.9</td>\n",
       "      <td>0.05943</td>\n",
       "      <td>0.01588</td>\n",
       "      <td>0.005917</td>\n",
       "    </tr>\n",
       "    <tr>\n",
       "      <th>...</th>\n",
       "      <td>...</td>\n",
       "      <td>...</td>\n",
       "      <td>...</td>\n",
       "      <td>...</td>\n",
       "      <td>...</td>\n",
       "      <td>...</td>\n",
       "    </tr>\n",
       "    <tr>\n",
       "      <th>558</th>\n",
       "      <td>14.590</td>\n",
       "      <td>96.39</td>\n",
       "      <td>657.1</td>\n",
       "      <td>0.13300</td>\n",
       "      <td>0.10290</td>\n",
       "      <td>0.037360</td>\n",
       "    </tr>\n",
       "    <tr>\n",
       "      <th>559</th>\n",
       "      <td>11.510</td>\n",
       "      <td>74.52</td>\n",
       "      <td>403.5</td>\n",
       "      <td>0.10210</td>\n",
       "      <td>0.11120</td>\n",
       "      <td>0.041050</td>\n",
       "    </tr>\n",
       "    <tr>\n",
       "      <th>560</th>\n",
       "      <td>14.050</td>\n",
       "      <td>91.38</td>\n",
       "      <td>600.4</td>\n",
       "      <td>0.11260</td>\n",
       "      <td>0.04462</td>\n",
       "      <td>0.043040</td>\n",
       "    </tr>\n",
       "    <tr>\n",
       "      <th>561</th>\n",
       "      <td>11.200</td>\n",
       "      <td>70.67</td>\n",
       "      <td>386.0</td>\n",
       "      <td>0.03558</td>\n",
       "      <td>0.00000</td>\n",
       "      <td>0.000000</td>\n",
       "    </tr>\n",
       "    <tr>\n",
       "      <th>568</th>\n",
       "      <td>7.760</td>\n",
       "      <td>47.92</td>\n",
       "      <td>181.0</td>\n",
       "      <td>0.04362</td>\n",
       "      <td>0.00000</td>\n",
       "      <td>0.000000</td>\n",
       "    </tr>\n",
       "  </tbody>\n",
       "</table>\n",
       "<p>357 rows × 6 columns</p>\n",
       "</div>"
      ],
      "text/plain": [
       "     mean radius  mean perimeter  mean area  mean compactness  mean concavity  \\\n",
       "19        13.540           87.46      566.3           0.08129         0.06664   \n",
       "20        13.080           85.63      520.0           0.12700         0.04568   \n",
       "21         9.504           60.34      273.9           0.06492         0.02956   \n",
       "37        13.030           82.61      523.8           0.03766         0.02562   \n",
       "46         8.196           51.71      201.9           0.05943         0.01588   \n",
       "..           ...             ...        ...               ...             ...   \n",
       "558       14.590           96.39      657.1           0.13300         0.10290   \n",
       "559       11.510           74.52      403.5           0.10210         0.11120   \n",
       "560       14.050           91.38      600.4           0.11260         0.04462   \n",
       "561       11.200           70.67      386.0           0.03558         0.00000   \n",
       "568        7.760           47.92      181.0           0.04362         0.00000   \n",
       "\n",
       "     mean concave points  \n",
       "19              0.047810  \n",
       "20              0.031100  \n",
       "21              0.020760  \n",
       "37              0.029230  \n",
       "46              0.005917  \n",
       "..                   ...  \n",
       "558             0.037360  \n",
       "559             0.041050  \n",
       "560             0.043040  \n",
       "561             0.000000  \n",
       "568             0.000000  \n",
       "\n",
       "[357 rows x 6 columns]"
      ]
     },
     "execution_count": 17,
     "metadata": {},
     "output_type": "execute_result"
    }
   ],
   "source": [
    "user_input=[[10.18000,65.12000,313.10000,0.08502,0.01768,0.01915]]\n",
    "temp_x=X[y==1]\n",
    "# temp_x=temp_x.head(5)\n",
    "temp_x"
   ]
  },
  {
   "cell_type": "code",
   "execution_count": 180,
   "id": "dba91e6f-eb03-4a64-b6b6-8b8395f10610",
   "metadata": {},
   "outputs": [],
   "source": [
    "temp_user_input=temp_x.to_numpy()"
   ]
  },
  {
   "cell_type": "code",
   "execution_count": 181,
   "id": "1785d55a-ec8e-4bca-a6d7-9739c8497523",
   "metadata": {},
   "outputs": [],
   "source": [
    "# scaler = StandardScaler()\n",
    "# input = scaler.fit_transform(user_input)\n",
    "# input = input.reshape(input.shape[0],6,1)\n",
    "# input"
   ]
  },
  {
   "cell_type": "code",
   "execution_count": 182,
   "id": "4acbd79f-21df-42d7-aa31-cebfe9658d1d",
   "metadata": {},
   "outputs": [
    {
     "name": "stdout",
     "output_type": "stream",
     "text": [
      "12/12 [==============================] - 0s 2ms/step\n"
     ]
    }
   ],
   "source": [
    "prediction=model.predict(temp_user_input)"
   ]
  },
  {
   "cell_type": "code",
   "execution_count": 183,
   "id": "faaffa31-216e-47a6-af13-b8389cc7a687",
   "metadata": {},
   "outputs": [
    {
     "name": "stdout",
     "output_type": "stream",
     "text": [
      "1/1 [==============================] - 0s 43ms/step\n",
      "yes you are having breast cancer\n"
     ]
    }
   ],
   "source": [
    "user_input_pred=model.predict(user_input)\n",
    "if user_input_pred>0.7:\n",
    "    print(\"yes you are having breast cancer\")"
   ]
  },
  {
   "cell_type": "code",
   "execution_count": 18,
   "id": "985aa562-fab4-44da-824c-a2f4cd02aa01",
   "metadata": {},
   "outputs": [],
   "source": [
    "model.save(\"Breast_Cancer_Model.h5\")"
   ]
  },
  {
   "cell_type": "code",
   "execution_count": 21,
   "id": "0a3c1736-53e4-42cd-9c0e-6a746edc3dd0",
   "metadata": {},
   "outputs": [],
   "source": [
    "from keras import models    \n",
    "loaded_model = models.load_model(\"Breast_Cancer_Prediction.h5\")"
   ]
  },
  {
   "cell_type": "code",
   "execution_count": 22,
   "id": "de74273c-2f51-44be-81ac-b1a73ba8a1dd",
   "metadata": {},
   "outputs": [
    {
     "name": "stdout",
     "output_type": "stream",
     "text": [
      "1/1 [==============================] - 0s 131ms/step\n"
     ]
    },
    {
     "data": {
      "text/plain": [
       "array([[0.96336126]], dtype=float32)"
      ]
     },
     "execution_count": 22,
     "metadata": {},
     "output_type": "execute_result"
    }
   ],
   "source": [
    "loaded_model.predict(user_input)"
   ]
  },
  {
   "cell_type": "code",
   "execution_count": 23,
   "id": "85a82f45-ffde-4a1a-90c1-5463e9412824",
   "metadata": {},
   "outputs": [
    {
     "name": "stdout",
     "output_type": "stream",
     "text": [
      "Keras weights file (<HDF5 file \"variables.h5\" (mode r+)>) saving:\n",
      "...layers\\batch_normalization\n",
      "......vars\n",
      ".........0\n",
      ".........1\n",
      ".........2\n",
      ".........3\n",
      "...layers\\batch_normalization_1\n",
      "......vars\n",
      ".........0\n",
      ".........1\n",
      ".........2\n",
      ".........3\n",
      "...layers\\conv1d\n",
      "......vars\n",
      ".........0\n",
      ".........1\n",
      "...layers\\conv1d_1\n",
      "......vars\n",
      ".........0\n",
      ".........1\n",
      "...layers\\dense\n",
      "......vars\n",
      ".........0\n",
      ".........1\n",
      "...layers\\dense_1\n",
      "......vars\n",
      ".........0\n",
      ".........1\n",
      "...layers\\dropout\n",
      "......vars\n",
      "...layers\\dropout_1\n",
      "......vars\n",
      "...layers\\dropout_2\n",
      "......vars\n",
      "...layers\\flatten\n",
      "......vars\n",
      "...metrics\\mean\n",
      "......vars\n",
      ".........0\n",
      ".........1\n",
      "...metrics\\mean_metric_wrapper\n",
      "......vars\n",
      ".........0\n",
      ".........1\n",
      "...optimizer\n",
      "......vars\n",
      ".........0\n",
      ".........1\n",
      ".........10\n",
      ".........11\n",
      ".........12\n",
      ".........13\n",
      ".........14\n",
      ".........15\n",
      ".........16\n",
      ".........17\n",
      ".........18\n",
      ".........19\n",
      ".........2\n",
      ".........20\n",
      ".........21\n",
      ".........22\n",
      ".........23\n",
      ".........24\n",
      ".........3\n",
      ".........4\n",
      ".........5\n",
      ".........6\n",
      ".........7\n",
      ".........8\n",
      ".........9\n",
      "...vars\n",
      "Keras model archive saving:\n",
      "File Name                                             Modified             Size\n",
      "config.json                                    2023-01-08 14:21:11         4607\n",
      "metadata.json                                  2023-01-08 14:21:11           64\n",
      "variables.h5                                   2023-01-08 14:21:11       108008\n"
     ]
    }
   ],
   "source": [
    "import pickle\n",
    "with open('Breast_Cancer_Model','wb') as file:\n",
    "    pickle.dump(model,file)"
   ]
  },
  {
   "cell_type": "code",
   "execution_count": null,
   "id": "4687df33-5f69-43e8-ad59-5ff2a26cbf9e",
   "metadata": {},
   "outputs": [],
   "source": []
  }
 ],
 "metadata": {
  "kernelspec": {
   "display_name": "Python 3 (ipykernel)",
   "language": "python",
   "name": "python3"
  },
  "language_info": {
   "codemirror_mode": {
    "name": "ipython",
    "version": 3
   },
   "file_extension": ".py",
   "mimetype": "text/x-python",
   "name": "python",
   "nbconvert_exporter": "python",
   "pygments_lexer": "ipython3",
   "version": "3.10.4"
  }
 },
 "nbformat": 4,
 "nbformat_minor": 5
}
