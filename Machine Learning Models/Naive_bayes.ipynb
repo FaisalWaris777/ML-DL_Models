{
 "cells": [
  {
   "cell_type": "code",
   "execution_count": 1,
   "id": "a3a05df1-b57a-4b79-bb4c-2ac63a3e7d55",
   "metadata": {},
   "outputs": [],
   "source": [
    "import pandas as pd"
   ]
  },
  {
   "cell_type": "code",
   "execution_count": 2,
   "id": "30e55de2-b037-4f00-861e-ee1a75ab6596",
   "metadata": {},
   "outputs": [],
   "source": [
    "from sklearn.datasets import load_iris\n",
    "iris=load_iris()\n",
    "df=pd.DataFrame(iris.data,columns=iris.feature_names)\n",
    "df['flower']=iris.target\n",
    "df['flower']=df.flower.apply(lambda x: iris.target_names[x])\n",
    "x=df.drop(['flower'],axis='columns')\n",
    "y=df[['flower']]"
   ]
  },
  {
   "cell_type": "code",
   "execution_count": 4,
   "id": "6e373ec0-b422-4296-9960-91c38a722742",
   "metadata": {},
   "outputs": [],
   "source": [
    "from sklearn.model_selection import train_test_split\n",
    "xtrain,xtest,ytrain,ytest=train_test_split(x,y,test_size=0.2)"
   ]
  },
  {
   "cell_type": "code",
   "execution_count": 7,
   "id": "dfa90ead-73f7-48ae-b761-6941570413d3",
   "metadata": {},
   "outputs": [
    {
     "data": {
      "text/plain": [
       "'There are three types of Naive Bayes model under the scikit-learn library:\\n    Gaussian: It is used in classification and it assumes that features follow a normal distribution.\\n    Multinomial: It is used for discrete counts.\\n    Bernoulli: The binomial model is useful if your feature vectors are binary (i.e. zeros and ones).'"
      ]
     },
     "execution_count": 7,
     "metadata": {},
     "output_type": "execute_result"
    }
   ],
   "source": [
    "'''There are three types of Naive Bayes model under the scikit-learn library:\n",
    "    Gaussian: It is used in classification and it assumes that features follow a normal distribution.\n",
    "    Multinomial: It is used for discrete counts.\n",
    "    Bernoulli: The binomial model is useful if your feature vectors are binary (i.e. zeros and ones).'''"
   ]
  },
  {
   "cell_type": "code",
   "execution_count": 10,
   "id": "7bbf4057-6921-44ef-905b-762aaf579299",
   "metadata": {},
   "outputs": [
    {
     "name": "stderr",
     "output_type": "stream",
     "text": [
      "C:\\Users\\welcome\\AppData\\Roaming\\Python\\Python310\\site-packages\\sklearn\\utils\\validation.py:993: DataConversionWarning: A column-vector y was passed when a 1d array was expected. Please change the shape of y to (n_samples, ), for example using ravel().\n",
      "  y = column_or_1d(y, warn=True)\n"
     ]
    },
    {
     "data": {
      "text/plain": [
       "GaussianNB()"
      ]
     },
     "execution_count": 10,
     "metadata": {},
     "output_type": "execute_result"
    }
   ],
   "source": [
    "from sklearn.naive_bayes import GaussianNB\n",
    "model = GaussianNB() \n",
    "model.fit(xtrain,ytrain)"
   ]
  },
  {
   "cell_type": "code",
   "execution_count": 11,
   "id": "449ab425-f855-453f-b1b0-1ec707a2b8d8",
   "metadata": {},
   "outputs": [
    {
     "data": {
      "text/plain": [
       "0.9666666666666667"
      ]
     },
     "execution_count": 11,
     "metadata": {},
     "output_type": "execute_result"
    }
   ],
   "source": [
    "model.score(xtest, ytest)"
   ]
  }
 ],
 "metadata": {
  "kernelspec": {
   "display_name": "Python 3 (ipykernel)",
   "language": "python",
   "name": "python3"
  },
  "language_info": {
   "codemirror_mode": {
    "name": "ipython",
    "version": 3
   },
   "file_extension": ".py",
   "mimetype": "text/x-python",
   "name": "python",
   "nbconvert_exporter": "python",
   "pygments_lexer": "ipython3",
   "version": "3.10.4"
  }
 },
 "nbformat": 4,
 "nbformat_minor": 5
}
